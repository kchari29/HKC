{
 "cells": [
  {
   "cell_type": "code",
   "execution_count": 4,
   "metadata": {},
   "outputs": [
    {
     "name": "stdout",
     "output_type": "stream",
     "text": [
      "\" om namah siwaya \"\" om namah siwaya \"\" om namah siwaya \"\" om namah siwaya \"\" om namah siwaya \"\" om namah siwaya \"\" om namah siwaya \"\" om namah siwaya \"\" om namah siwaya \"\" om namah siwaya \"\" om namah siwaya \"\" om namah siwaya \"\" om namah siwaya \"\" om namah siwaya \"\" om namah siwaya \"\" om namah siwaya \"\" om namah siwaya \"\" om namah siwaya \"\" om namah siwaya \"\" om namah siwaya \"\" om namah siwaya \"\" om namah siwaya \"\" om namah siwaya \"\" om namah siwaya \"\" om namah siwaya \"\" om namah siwaya \"\" om namah siwaya \"\" om namah siwaya \"\" om namah siwaya \"\" om namah siwaya \"\" om namah siwaya \"\" om namah siwaya \"\" om namah siwaya \"\" om namah siwaya \"\" om namah siwaya \"\" om namah siwaya \"\" om namah siwaya \"\" om namah siwaya \"\" om namah siwaya \"\" om namah siwaya \"\" om namah siwaya \"\" om namah siwaya \"\" om namah siwaya \"\" om namah siwaya \"\" om namah siwaya \"\" om namah siwaya \"\" om namah siwaya \"\" om namah siwaya \"\" om namah siwaya \"\" om namah siwaya \"\n"
     ]
    }
   ],
   "source": [
    "print('\" om namah siwaya \"'*50)"
   ]
  },
  {
   "cell_type": "code",
   "execution_count": 1,
   "metadata": {},
   "outputs": [
    {
     "name": "stdout",
     "output_type": "stream",
     "text": [
      "hello world\n"
     ]
    }
   ],
   "source": [
    "print(\"hello world\")"
   ]
  },
  {
   "cell_type": "code",
   "execution_count": 2,
   "metadata": {},
   "outputs": [
    {
     "name": "stdout",
     "output_type": "stream",
     "text": [
      "0\n",
      "00\n",
      "000\n"
     ]
    }
   ],
   "source": [
    "print(\"0\")\n",
    "print(\"00\")\n",
    "print(\"000\")"
   ]
  },
  {
   "cell_type": "code",
   "execution_count": 3,
   "metadata": {},
   "outputs": [
    {
     "name": "stdout",
     "output_type": "stream",
     "text": [
      "harihariharihariharihariharihariharihari\n"
     ]
    }
   ],
   "source": [
    "print(\"hari\"*10)"
   ]
  },
  {
   "cell_type": "code",
   "execution_count": 4,
   "metadata": {},
   "outputs": [
    {
     "name": "stdout",
     "output_type": "stream",
     "text": [
      "hari k.c hari k.c hari k.c hari k.c hari k.c hari k.c hari k.c hari k.c \n"
     ]
    }
   ],
   "source": [
    "print(\"hari k.c \" *8)"
   ]
  },
  {
   "cell_type": "code",
   "execution_count": 5,
   "metadata": {},
   "outputs": [
    {
     "name": "stdout",
     "output_type": "stream",
     "text": [
      "PYTHON COURSE FOR BEGINNER\n"
     ]
    }
   ],
   "source": [
    "c = \"Python course for beginner\"\n",
    "print(c.upper())"
   ]
  },
  {
   "cell_type": "code",
   "execution_count": 6,
   "metadata": {},
   "outputs": [
    {
     "name": "stdout",
     "output_type": "stream",
     "text": [
      "Python course for beginner\n"
     ]
    }
   ],
   "source": [
    "print(c[:])"
   ]
  },
  {
   "cell_type": "code",
   "execution_count": 9,
   "metadata": {},
   "outputs": [
    {
     "name": "stdout",
     "output_type": "stream",
     "text": [
      "26\n"
     ]
    }
   ],
   "source": [
    "print(len(c))"
   ]
  },
  {
   "cell_type": "code",
   "execution_count": 10,
   "metadata": {},
   "outputs": [
    {
     "name": "stdout",
     "output_type": "stream",
     "text": [
      "Python course for beginner\n"
     ]
    }
   ],
   "source": [
    "d = c[:]\n",
    "print(d)"
   ]
  },
  {
   "cell_type": "code",
   "execution_count": 11,
   "metadata": {
    "scrolled": true
   },
   "outputs": [
    {
     "name": "stdout",
     "output_type": "stream",
     "text": [
      "Hari Bahadur  k.c  likes physics a lot.\n"
     ]
    }
   ],
   "source": [
    "first = 'Hari Bahadur '\n",
    "last = 'k.c'\n",
    "msg = f'{first} {last}  likes physics a lot.'\n",
    "print(msg)"
   ]
  },
  {
   "cell_type": "code",
   "execution_count": null,
   "metadata": {},
   "outputs": [],
   "source": [
    "print(c)"
   ]
  },
  {
   "cell_type": "code",
   "execution_count": null,
   "metadata": {},
   "outputs": [],
   "source": [
    "print(c.replace(\"t\",\"r\"))"
   ]
  },
  {
   "cell_type": "code",
   "execution_count": null,
   "metadata": {},
   "outputs": [],
   "source": [
    "cor= \"Python for beginners\"\n",
    "print(cor.title())"
   ]
  },
  {
   "cell_type": "code",
   "execution_count": null,
   "metadata": {},
   "outputs": [],
   "source": [
    "print(10/3)\n",
    "print(10//3)"
   ]
  },
  {
   "cell_type": "code",
   "execution_count": null,
   "metadata": {},
   "outputs": [],
   "source": [
    "birth_date = input('1071')\n",
    "age =2020-int(birth_date)\n",
    "print(age)"
   ]
  },
  {
   "cell_type": "code",
   "execution_count": null,
   "metadata": {},
   "outputs": [],
   "source": [
    "list=list()\n",
    "list.append(\"Hello\",)\n",
    "list.append(\"How are you\")\n",
    "list.append(\"list\")\n",
    "print(list)"
   ]
  },
  {
   "cell_type": "code",
   "execution_count": null,
   "metadata": {},
   "outputs": [],
   "source": [
    "name=input(\"What is your name? \")\n",
    "favorite_color = input(\"what is your fevorite color? \")\n",
    "print(input(name + \" likes \" + favorite_color))"
   ]
  },
  {
   "cell_type": "code",
   "execution_count": 1,
   "metadata": {},
   "outputs": [
    {
     "name": "stdout",
     "output_type": "stream",
     "text": [
      "hello \n"
     ]
    }
   ],
   "source": [
    "print(\"hello \")"
   ]
  },
  {
   "cell_type": "code",
   "execution_count": 2,
   "metadata": {},
   "outputs": [
    {
     "name": "stdout",
     "output_type": "stream",
     "text": [
      "Hari k.c likes physics a lot.\n"
     ]
    }
   ],
   "source": [
    "first =\"Hari\"\n",
    "last =\"k.c\"\n",
    "msg = f\"{first} {last} likes physics a lot.\"\n",
    "print(msg)"
   ]
  },
  {
   "cell_type": "markdown",
   "metadata": {},
   "source": [
    "weight_lbs = input(\"weight(lbs): \")\n",
    "weight_kg =int(weight_lbs)*0.45\n",
    "print(weight_kg)\n"
   ]
  },
  {
   "cell_type": "code",
   "execution_count": null,
   "metadata": {},
   "outputs": [],
   "source": [
    "weight_lbs = input(\"weight(lbs): \") \n",
    "weight_kg =int(weight_lbs)*0.45\n",
    "print(weight_kg)"
   ]
  },
  {
   "cell_type": "code",
   "execution_count": null,
   "metadata": {},
   "outputs": [],
   "source": [
    "wt_lbs = input('wt(lbs): ')\n",
    "wt_kg = int(wt_lbs)*0."
   ]
  },
  {
   "cell_type": "code",
   "execution_count": null,
   "metadata": {},
   "outputs": [],
   "source": []
  }
 ],
 "metadata": {
  "kernelspec": {
   "display_name": "Python 3",
   "language": "python",
   "name": "python3"
  },
  "language_info": {
   "codemirror_mode": {
    "name": "ipython",
    "version": 3
   },
   "file_extension": ".py",
   "mimetype": "text/x-python",
   "name": "python",
   "nbconvert_exporter": "python",
   "pygments_lexer": "ipython3",
   "version": "3.7.6"
  }
 },
 "nbformat": 4,
 "nbformat_minor": 4
}
