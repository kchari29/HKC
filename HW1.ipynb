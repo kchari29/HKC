{
 "cells": [
  {
   "cell_type": "markdown",
   "metadata": {},
   "source": [
    "# List"
   ]
  },
  {
   "cell_type": "code",
   "execution_count": 7,
   "metadata": {},
   "outputs": [],
   "source": [
    "L1=[1,2]\n",
    "L2=[3,4]"
   ]
  },
  {
   "cell_type": "code",
   "execution_count": 8,
   "metadata": {},
   "outputs": [],
   "source": [
    "L3 =L1 +L2"
   ]
  },
  {
   "cell_type": "code",
   "execution_count": 11,
   "metadata": {},
   "outputs": [
    {
     "name": "stdout",
     "output_type": "stream",
     "text": [
      "[1, 2, 3, 4]\n"
     ]
    }
   ],
   "source": [
    "print(L3)"
   ]
  },
  {
   "cell_type": "code",
   "execution_count": 12,
   "metadata": {},
   "outputs": [],
   "source": [
    "L=[[1,2],[3,4],[5,6]]"
   ]
  },
  {
   "cell_type": "code",
   "execution_count": 13,
   "metadata": {},
   "outputs": [
    {
     "data": {
      "text/plain": [
       "list"
      ]
     },
     "execution_count": 13,
     "metadata": {},
     "output_type": "execute_result"
    }
   ],
   "source": [
    "type(L)"
   ]
  },
  {
   "cell_type": "code",
   "execution_count": 14,
   "metadata": {},
   "outputs": [
    {
     "data": {
      "text/plain": [
       "[5, 6]"
      ]
     },
     "execution_count": 14,
     "metadata": {},
     "output_type": "execute_result"
    }
   ],
   "source": [
    "max(L)"
   ]
  },
  {
   "cell_type": "code",
   "execution_count": 15,
   "metadata": {},
   "outputs": [
    {
     "data": {
      "text/plain": [
       "[1, 2]"
      ]
     },
     "execution_count": 15,
     "metadata": {},
     "output_type": "execute_result"
    }
   ],
   "source": [
    "min(L)"
   ]
  },
  {
   "cell_type": "code",
   "execution_count": 16,
   "metadata": {},
   "outputs": [
    {
     "data": {
      "text/plain": [
       "3"
      ]
     },
     "execution_count": 16,
     "metadata": {},
     "output_type": "execute_result"
    }
   ],
   "source": [
    "len(L)"
   ]
  },
  {
   "cell_type": "code",
   "execution_count": 17,
   "metadata": {},
   "outputs": [
    {
     "data": {
      "text/plain": [
       "(array([3, 6, 9]), array([ 2,  8, 18]))"
      ]
     },
     "execution_count": 17,
     "metadata": {},
     "output_type": "execute_result"
    }
   ],
   "source": [
    "import numpy as np\n",
    "L1=np.array([1,2,3])\n",
    "L2=np.array([2,4,6])\n",
    "L1+L2,L1*L2"
   ]
  },
  {
   "cell_type": "markdown",
   "metadata": {},
   "source": [
    "# \"tuple\""
   ]
  },
  {
   "cell_type": "code",
   "execution_count": 23,
   "metadata": {},
   "outputs": [],
   "source": [
    "#Used to create a 'list' that can not be modified later\n",
    "#Is only used to store constants like, g, G!\n",
    "#g=(9.8)\n",
    "#type(g)"
   ]
  },
  {
   "cell_type": "markdown",
   "metadata": {},
   "source": [
    "#  \"#Dictionary\""
   ]
  },
  {
   "cell_type": "code",
   "execution_count": 24,
   "metadata": {},
   "outputs": [
    {
     "data": {
      "text/plain": [
       "{'fruit': 'apple', 'veg': 'carrot', 'rice': 2.0}"
      ]
     },
     "execution_count": 24,
     "metadata": {},
     "output_type": "execute_result"
    }
   ],
   "source": [
    " {'fruit': 'apple', 'veg': 'carrot', 'rice': 2.0}"
   ]
  },
  {
   "cell_type": "code",
   "execution_count": 25,
   "metadata": {},
   "outputs": [],
   "source": [
    "# Word: Meaning\n",
    "# Python dictionary has a Key: Value pair\n",
    "D={'fruit':'apple',\n",
    "    'veg':'carrot',\n",
    "    'rice':2.0}"
   ]
  },
  {
   "cell_type": "code",
   "execution_count": 26,
   "metadata": {},
   "outputs": [],
   "source": [
    "D.update({'milk':5})"
   ]
  },
  {
   "cell_type": "code",
   "execution_count": 27,
   "metadata": {},
   "outputs": [
    {
     "name": "stdout",
     "output_type": "stream",
     "text": [
      "{'fruit': 'apple', 'veg': 'carrot', 'rice': 2.0, 'milk': 5}\n"
     ]
    }
   ],
   "source": [
    "print(D)"
   ]
  },
  {
   "cell_type": "code",
   "execution_count": 28,
   "metadata": {},
   "outputs": [
    {
     "data": {
      "text/plain": [
       "'# To add elements to list: append ! To add elements to Dict: update !'"
      ]
     },
     "execution_count": 28,
     "metadata": {},
     "output_type": "execute_result"
    }
   ],
   "source": [
    " \"# To add elements to list: append ! To add elements to Dict: update !\""
   ]
  },
  {
   "cell_type": "code",
   "execution_count": 29,
   "metadata": {},
   "outputs": [
    {
     "data": {
      "text/plain": [
       "'# For, While and If Loops'"
      ]
     },
     "execution_count": 29,
     "metadata": {},
     "output_type": "execute_result"
    }
   ],
   "source": [
    "  \"# For, While and If Loops\""
   ]
  },
  {
   "cell_type": "code",
   "execution_count": 33,
   "metadata": {},
   "outputs": [
    {
     "name": "stdout",
     "output_type": "stream",
     "text": [
      "0\n",
      "3\n",
      "6\n",
      "9\n",
      "12\n",
      "15\n",
      "18\n",
      "21\n",
      "24\n",
      "27\n"
     ]
    }
   ],
   "source": [
    "for i in range(10):\n",
    "    print(3*i)\n",
    "#M.append(3*i)\n",
    "#range(start,stop,step)"
   ]
  },
  {
   "cell_type": "code",
   "execution_count": 20,
   "metadata": {},
   "outputs": [
    {
     "name": "stdout",
     "output_type": "stream",
     "text": [
      "0\n",
      "3\n",
      "6\n",
      "9\n",
      "12\n",
      "15\n",
      "18\n",
      "21\n",
      "24\n",
      "27\n"
     ]
    }
   ],
   "source": [
    "M=[]\n",
    "for i in range(10):\n",
    "    print (3*i)\n",
    "    M.append(i*3)"
   ]
  },
  {
   "cell_type": "code",
   "execution_count": 21,
   "metadata": {},
   "outputs": [
    {
     "name": "stdout",
     "output_type": "stream",
     "text": [
      "[0, 3, 6, 9, 12, 15, 18, 21, 24, 27]\n"
     ]
    }
   ],
   "source": [
    "print(M)"
   ]
  },
  {
   "cell_type": "markdown",
   "metadata": {},
   "source": [
    "# Nested Loop"
   ]
  },
  {
   "cell_type": "code",
   "execution_count": 26,
   "metadata": {},
   "outputs": [
    {
     "ename": "IndentationError",
     "evalue": "unexpected indent (<ipython-input-26-346d0565d71a>, line 2)",
     "output_type": "error",
     "traceback": [
      "\u001b[1;36m  File \u001b[1;32m\"<ipython-input-26-346d0565d71a>\"\u001b[1;36m, line \u001b[1;32m2\u001b[0m\n\u001b[1;33m    for i in range(3):\u001b[0m\n\u001b[1;37m    ^\u001b[0m\n\u001b[1;31mIndentationError\u001b[0m\u001b[1;31m:\u001b[0m unexpected indent\n"
     ]
    }
   ],
   "source": [
    " D={}\n",
    "    for i in range(3):\n",
    "        for j in range(3):\n",
    "            if i==j:\n",
    "                print (i,'equals',j)\n",
    "                D.update({(i,j):i+j})\n",
    "            else:\n",
    "                print (i,'not equal to',j)\n",
    "                    D.update({(i,j):100*i+j})\n",
    "                "
   ]
  },
  {
   "cell_type": "markdown",
   "metadata": {},
   "source": [
    "# \"#HW3:\n"
   ]
  },
  {
   "cell_type": "code",
   "execution_count": 27,
   "metadata": {},
   "outputs": [
    {
     "ename": "IndentationError",
     "evalue": "expected an indented block (<ipython-input-27-73bb1711416d>, line 3)",
     "output_type": "error",
     "traceback": [
      "\u001b[1;36m  File \u001b[1;32m\"<ipython-input-27-73bb1711416d>\"\u001b[1;36m, line \u001b[1;32m3\u001b[0m\n\u001b[1;33m    y=sin(x). Create a for loop where x vareis from 0 to 360 degree and store y in a list.\\n\",\u001b[0m\n\u001b[1;37m    ^\u001b[0m\n\u001b[1;31mIndentationError\u001b[0m\u001b[1;31m:\u001b[0m expected an indented block\n"
     ]
    }
   ],
   "source": [
    "import numpy as np\n",
    "for x in range(360):\n",
    "y=sin(x). Create a for loop where x vareis from 0 to 360 degree and store y in a list.\\n\",\n",
    "    \"#Hint: Sine function has to be called using numpy.\\n\",\n",
    "    \"#Hint: Make sure Sin(30)=0.5 ! :)"
   ]
  },
  {
   "cell_type": "code",
   "execution_count": 38,
   "metadata": {},
   "outputs": [
    {
     "ename": "SyntaxError",
     "evalue": "invalid syntax (<ipython-input-38-4e5294ebf6e0>, line 1)",
     "output_type": "error",
     "traceback": [
      "\u001b[1;36m  File \u001b[1;32m\"<ipython-input-38-4e5294ebf6e0>\"\u001b[1;36m, line \u001b[1;32m1\u001b[0m\n\u001b[1;33m    x=np.inline(360):\u001b[0m\n\u001b[1;37m                    ^\u001b[0m\n\u001b[1;31mSyntaxError\u001b[0m\u001b[1;31m:\u001b[0m invalid syntax\n"
     ]
    }
   ],
   "source": [
    "x=np.inline(360):\n",
    "    y=np.sin(x)\n",
    "    print(x,y)  "
   ]
  },
  {
   "cell_type": "code",
   "execution_count": 56,
   "metadata": {},
   "outputs": [
    {
     "name": "stdout",
     "output_type": "stream",
     "text": [
      "[30, -0.9880316240928618]\n"
     ]
    }
   ],
   "source": [
    "d =30\n",
    "import numpy as np\n",
    "y =np.sin(d)\n",
    "print([d,y])"
   ]
  },
  {
   "cell_type": "code",
   "execution_count": 57,
   "metadata": {},
   "outputs": [
    {
     "name": "stdout",
     "output_type": "stream",
     "text": [
      "30 -0.9880316240928618\n"
     ]
    }
   ],
   "source": [
    "import numpy as np\n",
    "x=30\n",
    "y =np.sin(x)\n",
    "print(x,y)"
   ]
  },
  {
   "cell_type": "code",
   "execution_count": 1,
   "metadata": {},
   "outputs": [],
   "source": [
    "# https://covid.ourworldindata.org/data/ecdc/total_cases.csv\n",
    "#https://covid.ourworldindata.org/data/ecdc/total_deaths.csv"
   ]
  },
  {
   "cell_type": "code",
   "execution_count": 2,
   "metadata": {
    "scrolled": false
   },
   "outputs": [
    {
     "data": {
      "application/javascript": [
       "/* Put everything inside the global mpl namespace */\n",
       "window.mpl = {};\n",
       "\n",
       "\n",
       "mpl.get_websocket_type = function() {\n",
       "    if (typeof(WebSocket) !== 'undefined') {\n",
       "        return WebSocket;\n",
       "    } else if (typeof(MozWebSocket) !== 'undefined') {\n",
       "        return MozWebSocket;\n",
       "    } else {\n",
       "        alert('Your browser does not have WebSocket support. ' +\n",
       "              'Please try Chrome, Safari or Firefox ≥ 6. ' +\n",
       "              'Firefox 4 and 5 are also supported but you ' +\n",
       "              'have to enable WebSockets in about:config.');\n",
       "    };\n",
       "}\n",
       "\n",
       "mpl.figure = function(figure_id, websocket, ondownload, parent_element) {\n",
       "    this.id = figure_id;\n",
       "\n",
       "    this.ws = websocket;\n",
       "\n",
       "    this.supports_binary = (this.ws.binaryType != undefined);\n",
       "\n",
       "    if (!this.supports_binary) {\n",
       "        var warnings = document.getElementById(\"mpl-warnings\");\n",
       "        if (warnings) {\n",
       "            warnings.style.display = 'block';\n",
       "            warnings.textContent = (\n",
       "                \"This browser does not support binary websocket messages. \" +\n",
       "                    \"Performance may be slow.\");\n",
       "        }\n",
       "    }\n",
       "\n",
       "    this.imageObj = new Image();\n",
       "\n",
       "    this.context = undefined;\n",
       "    this.message = undefined;\n",
       "    this.canvas = undefined;\n",
       "    this.rubberband_canvas = undefined;\n",
       "    this.rubberband_context = undefined;\n",
       "    this.format_dropdown = undefined;\n",
       "\n",
       "    this.image_mode = 'full';\n",
       "\n",
       "    this.root = $('<div/>');\n",
       "    this._root_extra_style(this.root)\n",
       "    this.root.attr('style', 'display: inline-block');\n",
       "\n",
       "    $(parent_element).append(this.root);\n",
       "\n",
       "    this._init_header(this);\n",
       "    this._init_canvas(this);\n",
       "    this._init_toolbar(this);\n",
       "\n",
       "    var fig = this;\n",
       "\n",
       "    this.waiting = false;\n",
       "\n",
       "    this.ws.onopen =  function () {\n",
       "            fig.send_message(\"supports_binary\", {value: fig.supports_binary});\n",
       "            fig.send_message(\"send_image_mode\", {});\n",
       "            if (mpl.ratio != 1) {\n",
       "                fig.send_message(\"set_dpi_ratio\", {'dpi_ratio': mpl.ratio});\n",
       "            }\n",
       "            fig.send_message(\"refresh\", {});\n",
       "        }\n",
       "\n",
       "    this.imageObj.onload = function() {\n",
       "            if (fig.image_mode == 'full') {\n",
       "                // Full images could contain transparency (where diff images\n",
       "                // almost always do), so we need to clear the canvas so that\n",
       "                // there is no ghosting.\n",
       "                fig.context.clearRect(0, 0, fig.canvas.width, fig.canvas.height);\n",
       "            }\n",
       "            fig.context.drawImage(fig.imageObj, 0, 0);\n",
       "        };\n",
       "\n",
       "    this.imageObj.onunload = function() {\n",
       "        fig.ws.close();\n",
       "    }\n",
       "\n",
       "    this.ws.onmessage = this._make_on_message_function(this);\n",
       "\n",
       "    this.ondownload = ondownload;\n",
       "}\n",
       "\n",
       "mpl.figure.prototype._init_header = function() {\n",
       "    var titlebar = $(\n",
       "        '<div class=\"ui-dialog-titlebar ui-widget-header ui-corner-all ' +\n",
       "        'ui-helper-clearfix\"/>');\n",
       "    var titletext = $(\n",
       "        '<div class=\"ui-dialog-title\" style=\"width: 100%; ' +\n",
       "        'text-align: center; padding: 3px;\"/>');\n",
       "    titlebar.append(titletext)\n",
       "    this.root.append(titlebar);\n",
       "    this.header = titletext[0];\n",
       "}\n",
       "\n",
       "\n",
       "\n",
       "mpl.figure.prototype._canvas_extra_style = function(canvas_div) {\n",
       "\n",
       "}\n",
       "\n",
       "\n",
       "mpl.figure.prototype._root_extra_style = function(canvas_div) {\n",
       "\n",
       "}\n",
       "\n",
       "mpl.figure.prototype._init_canvas = function() {\n",
       "    var fig = this;\n",
       "\n",
       "    var canvas_div = $('<div/>');\n",
       "\n",
       "    canvas_div.attr('style', 'position: relative; clear: both; outline: 0');\n",
       "\n",
       "    function canvas_keyboard_event(event) {\n",
       "        return fig.key_event(event, event['data']);\n",
       "    }\n",
       "\n",
       "    canvas_div.keydown('key_press', canvas_keyboard_event);\n",
       "    canvas_div.keyup('key_release', canvas_keyboard_event);\n",
       "    this.canvas_div = canvas_div\n",
       "    this._canvas_extra_style(canvas_div)\n",
       "    this.root.append(canvas_div);\n",
       "\n",
       "    var canvas = $('<canvas/>');\n",
       "    canvas.addClass('mpl-canvas');\n",
       "    canvas.attr('style', \"left: 0; top: 0; z-index: 0; outline: 0\")\n",
       "\n",
       "    this.canvas = canvas[0];\n",
       "    this.context = canvas[0].getContext(\"2d\");\n",
       "\n",
       "    var backingStore = this.context.backingStorePixelRatio ||\n",
       "\tthis.context.webkitBackingStorePixelRatio ||\n",
       "\tthis.context.mozBackingStorePixelRatio ||\n",
       "\tthis.context.msBackingStorePixelRatio ||\n",
       "\tthis.context.oBackingStorePixelRatio ||\n",
       "\tthis.context.backingStorePixelRatio || 1;\n",
       "\n",
       "    mpl.ratio = (window.devicePixelRatio || 1) / backingStore;\n",
       "\n",
       "    var rubberband = $('<canvas/>');\n",
       "    rubberband.attr('style', \"position: absolute; left: 0; top: 0; z-index: 1;\")\n",
       "\n",
       "    var pass_mouse_events = true;\n",
       "\n",
       "    canvas_div.resizable({\n",
       "        start: function(event, ui) {\n",
       "            pass_mouse_events = false;\n",
       "        },\n",
       "        resize: function(event, ui) {\n",
       "            fig.request_resize(ui.size.width, ui.size.height);\n",
       "        },\n",
       "        stop: function(event, ui) {\n",
       "            pass_mouse_events = true;\n",
       "            fig.request_resize(ui.size.width, ui.size.height);\n",
       "        },\n",
       "    });\n",
       "\n",
       "    function mouse_event_fn(event) {\n",
       "        if (pass_mouse_events)\n",
       "            return fig.mouse_event(event, event['data']);\n",
       "    }\n",
       "\n",
       "    rubberband.mousedown('button_press', mouse_event_fn);\n",
       "    rubberband.mouseup('button_release', mouse_event_fn);\n",
       "    // Throttle sequential mouse events to 1 every 20ms.\n",
       "    rubberband.mousemove('motion_notify', mouse_event_fn);\n",
       "\n",
       "    rubberband.mouseenter('figure_enter', mouse_event_fn);\n",
       "    rubberband.mouseleave('figure_leave', mouse_event_fn);\n",
       "\n",
       "    canvas_div.on(\"wheel\", function (event) {\n",
       "        event = event.originalEvent;\n",
       "        event['data'] = 'scroll'\n",
       "        if (event.deltaY < 0) {\n",
       "            event.step = 1;\n",
       "        } else {\n",
       "            event.step = -1;\n",
       "        }\n",
       "        mouse_event_fn(event);\n",
       "    });\n",
       "\n",
       "    canvas_div.append(canvas);\n",
       "    canvas_div.append(rubberband);\n",
       "\n",
       "    this.rubberband = rubberband;\n",
       "    this.rubberband_canvas = rubberband[0];\n",
       "    this.rubberband_context = rubberband[0].getContext(\"2d\");\n",
       "    this.rubberband_context.strokeStyle = \"#000000\";\n",
       "\n",
       "    this._resize_canvas = function(width, height) {\n",
       "        // Keep the size of the canvas, canvas container, and rubber band\n",
       "        // canvas in synch.\n",
       "        canvas_div.css('width', width)\n",
       "        canvas_div.css('height', height)\n",
       "\n",
       "        canvas.attr('width', width * mpl.ratio);\n",
       "        canvas.attr('height', height * mpl.ratio);\n",
       "        canvas.attr('style', 'width: ' + width + 'px; height: ' + height + 'px;');\n",
       "\n",
       "        rubberband.attr('width', width);\n",
       "        rubberband.attr('height', height);\n",
       "    }\n",
       "\n",
       "    // Set the figure to an initial 600x600px, this will subsequently be updated\n",
       "    // upon first draw.\n",
       "    this._resize_canvas(600, 600);\n",
       "\n",
       "    // Disable right mouse context menu.\n",
       "    $(this.rubberband_canvas).bind(\"contextmenu\",function(e){\n",
       "        return false;\n",
       "    });\n",
       "\n",
       "    function set_focus () {\n",
       "        canvas.focus();\n",
       "        canvas_div.focus();\n",
       "    }\n",
       "\n",
       "    window.setTimeout(set_focus, 100);\n",
       "}\n",
       "\n",
       "mpl.figure.prototype._init_toolbar = function() {\n",
       "    var fig = this;\n",
       "\n",
       "    var nav_element = $('<div/>');\n",
       "    nav_element.attr('style', 'width: 100%');\n",
       "    this.root.append(nav_element);\n",
       "\n",
       "    // Define a callback function for later on.\n",
       "    function toolbar_event(event) {\n",
       "        return fig.toolbar_button_onclick(event['data']);\n",
       "    }\n",
       "    function toolbar_mouse_event(event) {\n",
       "        return fig.toolbar_button_onmouseover(event['data']);\n",
       "    }\n",
       "\n",
       "    for(var toolbar_ind in mpl.toolbar_items) {\n",
       "        var name = mpl.toolbar_items[toolbar_ind][0];\n",
       "        var tooltip = mpl.toolbar_items[toolbar_ind][1];\n",
       "        var image = mpl.toolbar_items[toolbar_ind][2];\n",
       "        var method_name = mpl.toolbar_items[toolbar_ind][3];\n",
       "\n",
       "        if (!name) {\n",
       "            // put a spacer in here.\n",
       "            continue;\n",
       "        }\n",
       "        var button = $('<button/>');\n",
       "        button.addClass('ui-button ui-widget ui-state-default ui-corner-all ' +\n",
       "                        'ui-button-icon-only');\n",
       "        button.attr('role', 'button');\n",
       "        button.attr('aria-disabled', 'false');\n",
       "        button.click(method_name, toolbar_event);\n",
       "        button.mouseover(tooltip, toolbar_mouse_event);\n",
       "\n",
       "        var icon_img = $('<span/>');\n",
       "        icon_img.addClass('ui-button-icon-primary ui-icon');\n",
       "        icon_img.addClass(image);\n",
       "        icon_img.addClass('ui-corner-all');\n",
       "\n",
       "        var tooltip_span = $('<span/>');\n",
       "        tooltip_span.addClass('ui-button-text');\n",
       "        tooltip_span.html(tooltip);\n",
       "\n",
       "        button.append(icon_img);\n",
       "        button.append(tooltip_span);\n",
       "\n",
       "        nav_element.append(button);\n",
       "    }\n",
       "\n",
       "    var fmt_picker_span = $('<span/>');\n",
       "\n",
       "    var fmt_picker = $('<select/>');\n",
       "    fmt_picker.addClass('mpl-toolbar-option ui-widget ui-widget-content');\n",
       "    fmt_picker_span.append(fmt_picker);\n",
       "    nav_element.append(fmt_picker_span);\n",
       "    this.format_dropdown = fmt_picker[0];\n",
       "\n",
       "    for (var ind in mpl.extensions) {\n",
       "        var fmt = mpl.extensions[ind];\n",
       "        var option = $(\n",
       "            '<option/>', {selected: fmt === mpl.default_extension}).html(fmt);\n",
       "        fmt_picker.append(option);\n",
       "    }\n",
       "\n",
       "    // Add hover states to the ui-buttons\n",
       "    $( \".ui-button\" ).hover(\n",
       "        function() { $(this).addClass(\"ui-state-hover\");},\n",
       "        function() { $(this).removeClass(\"ui-state-hover\");}\n",
       "    );\n",
       "\n",
       "    var status_bar = $('<span class=\"mpl-message\"/>');\n",
       "    nav_element.append(status_bar);\n",
       "    this.message = status_bar[0];\n",
       "}\n",
       "\n",
       "mpl.figure.prototype.request_resize = function(x_pixels, y_pixels) {\n",
       "    // Request matplotlib to resize the figure. Matplotlib will then trigger a resize in the client,\n",
       "    // which will in turn request a refresh of the image.\n",
       "    this.send_message('resize', {'width': x_pixels, 'height': y_pixels});\n",
       "}\n",
       "\n",
       "mpl.figure.prototype.send_message = function(type, properties) {\n",
       "    properties['type'] = type;\n",
       "    properties['figure_id'] = this.id;\n",
       "    this.ws.send(JSON.stringify(properties));\n",
       "}\n",
       "\n",
       "mpl.figure.prototype.send_draw_message = function() {\n",
       "    if (!this.waiting) {\n",
       "        this.waiting = true;\n",
       "        this.ws.send(JSON.stringify({type: \"draw\", figure_id: this.id}));\n",
       "    }\n",
       "}\n",
       "\n",
       "\n",
       "mpl.figure.prototype.handle_save = function(fig, msg) {\n",
       "    var format_dropdown = fig.format_dropdown;\n",
       "    var format = format_dropdown.options[format_dropdown.selectedIndex].value;\n",
       "    fig.ondownload(fig, format);\n",
       "}\n",
       "\n",
       "\n",
       "mpl.figure.prototype.handle_resize = function(fig, msg) {\n",
       "    var size = msg['size'];\n",
       "    if (size[0] != fig.canvas.width || size[1] != fig.canvas.height) {\n",
       "        fig._resize_canvas(size[0], size[1]);\n",
       "        fig.send_message(\"refresh\", {});\n",
       "    };\n",
       "}\n",
       "\n",
       "mpl.figure.prototype.handle_rubberband = function(fig, msg) {\n",
       "    var x0 = msg['x0'] / mpl.ratio;\n",
       "    var y0 = (fig.canvas.height - msg['y0']) / mpl.ratio;\n",
       "    var x1 = msg['x1'] / mpl.ratio;\n",
       "    var y1 = (fig.canvas.height - msg['y1']) / mpl.ratio;\n",
       "    x0 = Math.floor(x0) + 0.5;\n",
       "    y0 = Math.floor(y0) + 0.5;\n",
       "    x1 = Math.floor(x1) + 0.5;\n",
       "    y1 = Math.floor(y1) + 0.5;\n",
       "    var min_x = Math.min(x0, x1);\n",
       "    var min_y = Math.min(y0, y1);\n",
       "    var width = Math.abs(x1 - x0);\n",
       "    var height = Math.abs(y1 - y0);\n",
       "\n",
       "    fig.rubberband_context.clearRect(\n",
       "        0, 0, fig.canvas.width / mpl.ratio, fig.canvas.height / mpl.ratio);\n",
       "\n",
       "    fig.rubberband_context.strokeRect(min_x, min_y, width, height);\n",
       "}\n",
       "\n",
       "mpl.figure.prototype.handle_figure_label = function(fig, msg) {\n",
       "    // Updates the figure title.\n",
       "    fig.header.textContent = msg['label'];\n",
       "}\n",
       "\n",
       "mpl.figure.prototype.handle_cursor = function(fig, msg) {\n",
       "    var cursor = msg['cursor'];\n",
       "    switch(cursor)\n",
       "    {\n",
       "    case 0:\n",
       "        cursor = 'pointer';\n",
       "        break;\n",
       "    case 1:\n",
       "        cursor = 'default';\n",
       "        break;\n",
       "    case 2:\n",
       "        cursor = 'crosshair';\n",
       "        break;\n",
       "    case 3:\n",
       "        cursor = 'move';\n",
       "        break;\n",
       "    }\n",
       "    fig.rubberband_canvas.style.cursor = cursor;\n",
       "}\n",
       "\n",
       "mpl.figure.prototype.handle_message = function(fig, msg) {\n",
       "    fig.message.textContent = msg['message'];\n",
       "}\n",
       "\n",
       "mpl.figure.prototype.handle_draw = function(fig, msg) {\n",
       "    // Request the server to send over a new figure.\n",
       "    fig.send_draw_message();\n",
       "}\n",
       "\n",
       "mpl.figure.prototype.handle_image_mode = function(fig, msg) {\n",
       "    fig.image_mode = msg['mode'];\n",
       "}\n",
       "\n",
       "mpl.figure.prototype.updated_canvas_event = function() {\n",
       "    // Called whenever the canvas gets updated.\n",
       "    this.send_message(\"ack\", {});\n",
       "}\n",
       "\n",
       "// A function to construct a web socket function for onmessage handling.\n",
       "// Called in the figure constructor.\n",
       "mpl.figure.prototype._make_on_message_function = function(fig) {\n",
       "    return function socket_on_message(evt) {\n",
       "        if (evt.data instanceof Blob) {\n",
       "            /* FIXME: We get \"Resource interpreted as Image but\n",
       "             * transferred with MIME type text/plain:\" errors on\n",
       "             * Chrome.  But how to set the MIME type?  It doesn't seem\n",
       "             * to be part of the websocket stream */\n",
       "            evt.data.type = \"image/png\";\n",
       "\n",
       "            /* Free the memory for the previous frames */\n",
       "            if (fig.imageObj.src) {\n",
       "                (window.URL || window.webkitURL).revokeObjectURL(\n",
       "                    fig.imageObj.src);\n",
       "            }\n",
       "\n",
       "            fig.imageObj.src = (window.URL || window.webkitURL).createObjectURL(\n",
       "                evt.data);\n",
       "            fig.updated_canvas_event();\n",
       "            fig.waiting = false;\n",
       "            return;\n",
       "        }\n",
       "        else if (typeof evt.data === 'string' && evt.data.slice(0, 21) == \"data:image/png;base64\") {\n",
       "            fig.imageObj.src = evt.data;\n",
       "            fig.updated_canvas_event();\n",
       "            fig.waiting = false;\n",
       "            return;\n",
       "        }\n",
       "\n",
       "        var msg = JSON.parse(evt.data);\n",
       "        var msg_type = msg['type'];\n",
       "\n",
       "        // Call the  \"handle_{type}\" callback, which takes\n",
       "        // the figure and JSON message as its only arguments.\n",
       "        try {\n",
       "            var callback = fig[\"handle_\" + msg_type];\n",
       "        } catch (e) {\n",
       "            console.log(\"No handler for the '\" + msg_type + \"' message type: \", msg);\n",
       "            return;\n",
       "        }\n",
       "\n",
       "        if (callback) {\n",
       "            try {\n",
       "                // console.log(\"Handling '\" + msg_type + \"' message: \", msg);\n",
       "                callback(fig, msg);\n",
       "            } catch (e) {\n",
       "                console.log(\"Exception inside the 'handler_\" + msg_type + \"' callback:\", e, e.stack, msg);\n",
       "            }\n",
       "        }\n",
       "    };\n",
       "}\n",
       "\n",
       "// from http://stackoverflow.com/questions/1114465/getting-mouse-location-in-canvas\n",
       "mpl.findpos = function(e) {\n",
       "    //this section is from http://www.quirksmode.org/js/events_properties.html\n",
       "    var targ;\n",
       "    if (!e)\n",
       "        e = window.event;\n",
       "    if (e.target)\n",
       "        targ = e.target;\n",
       "    else if (e.srcElement)\n",
       "        targ = e.srcElement;\n",
       "    if (targ.nodeType == 3) // defeat Safari bug\n",
       "        targ = targ.parentNode;\n",
       "\n",
       "    // jQuery normalizes the pageX and pageY\n",
       "    // pageX,Y are the mouse positions relative to the document\n",
       "    // offset() returns the position of the element relative to the document\n",
       "    var x = e.pageX - $(targ).offset().left;\n",
       "    var y = e.pageY - $(targ).offset().top;\n",
       "\n",
       "    return {\"x\": x, \"y\": y};\n",
       "};\n",
       "\n",
       "/*\n",
       " * return a copy of an object with only non-object keys\n",
       " * we need this to avoid circular references\n",
       " * http://stackoverflow.com/a/24161582/3208463\n",
       " */\n",
       "function simpleKeys (original) {\n",
       "  return Object.keys(original).reduce(function (obj, key) {\n",
       "    if (typeof original[key] !== 'object')\n",
       "        obj[key] = original[key]\n",
       "    return obj;\n",
       "  }, {});\n",
       "}\n",
       "\n",
       "mpl.figure.prototype.mouse_event = function(event, name) {\n",
       "    var canvas_pos = mpl.findpos(event)\n",
       "\n",
       "    if (name === 'button_press')\n",
       "    {\n",
       "        this.canvas.focus();\n",
       "        this.canvas_div.focus();\n",
       "    }\n",
       "\n",
       "    var x = canvas_pos.x * mpl.ratio;\n",
       "    var y = canvas_pos.y * mpl.ratio;\n",
       "\n",
       "    this.send_message(name, {x: x, y: y, button: event.button,\n",
       "                             step: event.step,\n",
       "                             guiEvent: simpleKeys(event)});\n",
       "\n",
       "    /* This prevents the web browser from automatically changing to\n",
       "     * the text insertion cursor when the button is pressed.  We want\n",
       "     * to control all of the cursor setting manually through the\n",
       "     * 'cursor' event from matplotlib */\n",
       "    event.preventDefault();\n",
       "    return false;\n",
       "}\n",
       "\n",
       "mpl.figure.prototype._key_event_extra = function(event, name) {\n",
       "    // Handle any extra behaviour associated with a key event\n",
       "}\n",
       "\n",
       "mpl.figure.prototype.key_event = function(event, name) {\n",
       "\n",
       "    // Prevent repeat events\n",
       "    if (name == 'key_press')\n",
       "    {\n",
       "        if (event.which === this._key)\n",
       "            return;\n",
       "        else\n",
       "            this._key = event.which;\n",
       "    }\n",
       "    if (name == 'key_release')\n",
       "        this._key = null;\n",
       "\n",
       "    var value = '';\n",
       "    if (event.ctrlKey && event.which != 17)\n",
       "        value += \"ctrl+\";\n",
       "    if (event.altKey && event.which != 18)\n",
       "        value += \"alt+\";\n",
       "    if (event.shiftKey && event.which != 16)\n",
       "        value += \"shift+\";\n",
       "\n",
       "    value += 'k';\n",
       "    value += event.which.toString();\n",
       "\n",
       "    this._key_event_extra(event, name);\n",
       "\n",
       "    this.send_message(name, {key: value,\n",
       "                             guiEvent: simpleKeys(event)});\n",
       "    return false;\n",
       "}\n",
       "\n",
       "mpl.figure.prototype.toolbar_button_onclick = function(name) {\n",
       "    if (name == 'download') {\n",
       "        this.handle_save(this, null);\n",
       "    } else {\n",
       "        this.send_message(\"toolbar_button\", {name: name});\n",
       "    }\n",
       "};\n",
       "\n",
       "mpl.figure.prototype.toolbar_button_onmouseover = function(tooltip) {\n",
       "    this.message.textContent = tooltip;\n",
       "};\n",
       "mpl.toolbar_items = [[\"Home\", \"Reset original view\", \"fa fa-home icon-home\", \"home\"], [\"Back\", \"Back to previous view\", \"fa fa-arrow-left icon-arrow-left\", \"back\"], [\"Forward\", \"Forward to next view\", \"fa fa-arrow-right icon-arrow-right\", \"forward\"], [\"\", \"\", \"\", \"\"], [\"Pan\", \"Pan axes with left mouse, zoom with right\", \"fa fa-arrows icon-move\", \"pan\"], [\"Zoom\", \"Zoom to rectangle\", \"fa fa-square-o icon-check-empty\", \"zoom\"], [\"\", \"\", \"\", \"\"], [\"Download\", \"Download plot\", \"fa fa-floppy-o icon-save\", \"download\"]];\n",
       "\n",
       "mpl.extensions = [\"eps\", \"jpeg\", \"pdf\", \"png\", \"ps\", \"raw\", \"svg\", \"tif\"];\n",
       "\n",
       "mpl.default_extension = \"png\";var comm_websocket_adapter = function(comm) {\n",
       "    // Create a \"websocket\"-like object which calls the given IPython comm\n",
       "    // object with the appropriate methods. Currently this is a non binary\n",
       "    // socket, so there is still some room for performance tuning.\n",
       "    var ws = {};\n",
       "\n",
       "    ws.close = function() {\n",
       "        comm.close()\n",
       "    };\n",
       "    ws.send = function(m) {\n",
       "        //console.log('sending', m);\n",
       "        comm.send(m);\n",
       "    };\n",
       "    // Register the callback with on_msg.\n",
       "    comm.on_msg(function(msg) {\n",
       "        //console.log('receiving', msg['content']['data'], msg);\n",
       "        // Pass the mpl event to the overridden (by mpl) onmessage function.\n",
       "        ws.onmessage(msg['content']['data'])\n",
       "    });\n",
       "    return ws;\n",
       "}\n",
       "\n",
       "mpl.mpl_figure_comm = function(comm, msg) {\n",
       "    // This is the function which gets called when the mpl process\n",
       "    // starts-up an IPython Comm through the \"matplotlib\" channel.\n",
       "\n",
       "    var id = msg.content.data.id;\n",
       "    // Get hold of the div created by the display call when the Comm\n",
       "    // socket was opened in Python.\n",
       "    var element = $(\"#\" + id);\n",
       "    var ws_proxy = comm_websocket_adapter(comm)\n",
       "\n",
       "    function ondownload(figure, format) {\n",
       "        window.open(figure.imageObj.src);\n",
       "    }\n",
       "\n",
       "    var fig = new mpl.figure(id, ws_proxy,\n",
       "                           ondownload,\n",
       "                           element.get(0));\n",
       "\n",
       "    // Call onopen now - mpl needs it, as it is assuming we've passed it a real\n",
       "    // web socket which is closed, not our websocket->open comm proxy.\n",
       "    ws_proxy.onopen();\n",
       "\n",
       "    fig.parent_element = element.get(0);\n",
       "    fig.cell_info = mpl.find_output_cell(\"<div id='\" + id + \"'></div>\");\n",
       "    if (!fig.cell_info) {\n",
       "        console.error(\"Failed to find cell for figure\", id, fig);\n",
       "        return;\n",
       "    }\n",
       "\n",
       "    var output_index = fig.cell_info[2]\n",
       "    var cell = fig.cell_info[0];\n",
       "\n",
       "};\n",
       "\n",
       "mpl.figure.prototype.handle_close = function(fig, msg) {\n",
       "    var width = fig.canvas.width/mpl.ratio\n",
       "    fig.root.unbind('remove')\n",
       "\n",
       "    // Update the output cell to use the data from the current canvas.\n",
       "    fig.push_to_output();\n",
       "    var dataURL = fig.canvas.toDataURL();\n",
       "    // Re-enable the keyboard manager in IPython - without this line, in FF,\n",
       "    // the notebook keyboard shortcuts fail.\n",
       "    IPython.keyboard_manager.enable()\n",
       "    $(fig.parent_element).html('<img src=\"' + dataURL + '\" width=\"' + width + '\">');\n",
       "    fig.close_ws(fig, msg);\n",
       "}\n",
       "\n",
       "mpl.figure.prototype.close_ws = function(fig, msg){\n",
       "    fig.send_message('closing', msg);\n",
       "    // fig.ws.close()\n",
       "}\n",
       "\n",
       "mpl.figure.prototype.push_to_output = function(remove_interactive) {\n",
       "    // Turn the data on the canvas into data in the output cell.\n",
       "    var width = this.canvas.width/mpl.ratio\n",
       "    var dataURL = this.canvas.toDataURL();\n",
       "    this.cell_info[1]['text/html'] = '<img src=\"' + dataURL + '\" width=\"' + width + '\">';\n",
       "}\n",
       "\n",
       "mpl.figure.prototype.updated_canvas_event = function() {\n",
       "    // Tell IPython that the notebook contents must change.\n",
       "    IPython.notebook.set_dirty(true);\n",
       "    this.send_message(\"ack\", {});\n",
       "    var fig = this;\n",
       "    // Wait a second, then push the new image to the DOM so\n",
       "    // that it is saved nicely (might be nice to debounce this).\n",
       "    setTimeout(function () { fig.push_to_output() }, 1000);\n",
       "}\n",
       "\n",
       "mpl.figure.prototype._init_toolbar = function() {\n",
       "    var fig = this;\n",
       "\n",
       "    var nav_element = $('<div/>');\n",
       "    nav_element.attr('style', 'width: 100%');\n",
       "    this.root.append(nav_element);\n",
       "\n",
       "    // Define a callback function for later on.\n",
       "    function toolbar_event(event) {\n",
       "        return fig.toolbar_button_onclick(event['data']);\n",
       "    }\n",
       "    function toolbar_mouse_event(event) {\n",
       "        return fig.toolbar_button_onmouseover(event['data']);\n",
       "    }\n",
       "\n",
       "    for(var toolbar_ind in mpl.toolbar_items){\n",
       "        var name = mpl.toolbar_items[toolbar_ind][0];\n",
       "        var tooltip = mpl.toolbar_items[toolbar_ind][1];\n",
       "        var image = mpl.toolbar_items[toolbar_ind][2];\n",
       "        var method_name = mpl.toolbar_items[toolbar_ind][3];\n",
       "\n",
       "        if (!name) { continue; };\n",
       "\n",
       "        var button = $('<button class=\"btn btn-default\" href=\"#\" title=\"' + name + '\"><i class=\"fa ' + image + ' fa-lg\"></i></button>');\n",
       "        button.click(method_name, toolbar_event);\n",
       "        button.mouseover(tooltip, toolbar_mouse_event);\n",
       "        nav_element.append(button);\n",
       "    }\n",
       "\n",
       "    // Add the status bar.\n",
       "    var status_bar = $('<span class=\"mpl-message\" style=\"text-align:right; float: right;\"/>');\n",
       "    nav_element.append(status_bar);\n",
       "    this.message = status_bar[0];\n",
       "\n",
       "    // Add the close button to the window.\n",
       "    var buttongrp = $('<div class=\"btn-group inline pull-right\"></div>');\n",
       "    var button = $('<button class=\"btn btn-mini btn-primary\" href=\"#\" title=\"Stop Interaction\"><i class=\"fa fa-power-off icon-remove icon-large\"></i></button>');\n",
       "    button.click(function (evt) { fig.handle_close(fig, {}); } );\n",
       "    button.mouseover('Stop Interaction', toolbar_mouse_event);\n",
       "    buttongrp.append(button);\n",
       "    var titlebar = this.root.find($('.ui-dialog-titlebar'));\n",
       "    titlebar.prepend(buttongrp);\n",
       "}\n",
       "\n",
       "mpl.figure.prototype._root_extra_style = function(el){\n",
       "    var fig = this\n",
       "    el.on(\"remove\", function(){\n",
       "\tfig.close_ws(fig, {});\n",
       "    });\n",
       "}\n",
       "\n",
       "mpl.figure.prototype._canvas_extra_style = function(el){\n",
       "    // this is important to make the div 'focusable\n",
       "    el.attr('tabindex', 0)\n",
       "    // reach out to IPython and tell the keyboard manager to turn it's self\n",
       "    // off when our div gets focus\n",
       "\n",
       "    // location in version 3\n",
       "    if (IPython.notebook.keyboard_manager) {\n",
       "        IPython.notebook.keyboard_manager.register_events(el);\n",
       "    }\n",
       "    else {\n",
       "        // location in version 2\n",
       "        IPython.keyboard_manager.register_events(el);\n",
       "    }\n",
       "\n",
       "}\n",
       "\n",
       "mpl.figure.prototype._key_event_extra = function(event, name) {\n",
       "    var manager = IPython.notebook.keyboard_manager;\n",
       "    if (!manager)\n",
       "        manager = IPython.keyboard_manager;\n",
       "\n",
       "    // Check for shift+enter\n",
       "    if (event.shiftKey && event.which == 13) {\n",
       "        this.canvas_div.blur();\n",
       "        // select the cell after this one\n",
       "        var index = IPython.notebook.find_cell_index(this.cell_info[0]);\n",
       "        IPython.notebook.select(index + 1);\n",
       "    }\n",
       "}\n",
       "\n",
       "mpl.figure.prototype.handle_save = function(fig, msg) {\n",
       "    fig.ondownload(fig, null);\n",
       "}\n",
       "\n",
       "\n",
       "mpl.find_output_cell = function(html_output) {\n",
       "    // Return the cell and output element which can be found *uniquely* in the notebook.\n",
       "    // Note - this is a bit hacky, but it is done because the \"notebook_saving.Notebook\"\n",
       "    // IPython event is triggered only after the cells have been serialised, which for\n",
       "    // our purposes (turning an active figure into a static one), is too late.\n",
       "    var cells = IPython.notebook.get_cells();\n",
       "    var ncells = cells.length;\n",
       "    for (var i=0; i<ncells; i++) {\n",
       "        var cell = cells[i];\n",
       "        if (cell.cell_type === 'code'){\n",
       "            for (var j=0; j<cell.output_area.outputs.length; j++) {\n",
       "                var data = cell.output_area.outputs[j];\n",
       "                if (data.data) {\n",
       "                    // IPython >= 3 moved mimebundle to data attribute of output\n",
       "                    data = data.data;\n",
       "                }\n",
       "                if (data['text/html'] == html_output) {\n",
       "                    return [cell, data, j];\n",
       "                }\n",
       "            }\n",
       "        }\n",
       "    }\n",
       "}\n",
       "\n",
       "// Register the function which deals with the matplotlib target/channel.\n",
       "// The kernel may be null if the page has been refreshed.\n",
       "if (IPython.notebook.kernel != null) {\n",
       "    IPython.notebook.kernel.comm_manager.register_target('matplotlib', mpl.mpl_figure_comm);\n",
       "}\n"
      ],
      "text/plain": [
       "<IPython.core.display.Javascript object>"
      ]
     },
     "metadata": {},
     "output_type": "display_data"
    },
    {
     "data": {
      "text/html": [
       "<img src=\"data:image/png;base64,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\" width=\"640\">"
      ],
      "text/plain": [
       "<IPython.core.display.HTML object>"
      ]
     },
     "metadata": {},
     "output_type": "display_data"
    }
   ],
   "source": [
    "import numpy as np\n",
    "import matplotlib.pyplot as plt\n",
    "\n",
    "# this tells Jupyter to embed matplotlib plots in the notebook\n",
    "%matplotlib notebook\n",
    "def sinc(x):\n",
    "    return np.sin(x) / x\n",
    "\n",
    "def d_sinc(x):\n",
    "    \"derivative of sinc-function\"\n",
    "    return np.cos(x)/x - np.sin(x)/x**2\n",
    "# evaluate functions at 1000 points evenly spaced in [-15, 15]\n",
    "x = np.linspace(-15, 15, 1000)\n",
    "f = sinc(x)\n",
    "df = d_sinc(x)\n",
    "# plot the sinc-function and its derivative\n",
    "fig, ax = plt.subplots()\n",
    "ax.plot(x, f, color=\"red\", label=r\"$sinc(x)$\")\n",
    "ax.plot(x, df, color=\"blue\", ls=\"--\", label=r\"$\\frac{d(sinc(x))}{dx}$\")\n",
    "\n",
    "\n",
    "ax.set_title(\"Example Notebook Plot\")\n",
    "ax.set_xlabel(r\"$x$ [radians]\")\n",
    "\n",
    "ax.grid(True)\n",
    "ax.legend();"
   ]
  },
  {
   "cell_type": "code",
   "execution_count": null,
   "metadata": {},
   "outputs": [],
   "source": []
  },
  {
   "cell_type": "code",
   "execution_count": null,
   "metadata": {},
   "outputs": [],
   "source": []
  }
 ],
 "metadata": {
  "kernelspec": {
   "display_name": "Python 3",
   "language": "python",
   "name": "python3"
  },
  "language_info": {
   "codemirror_mode": {
    "name": "ipython",
    "version": 3
   },
   "file_extension": ".py",
   "mimetype": "text/x-python",
   "name": "python",
   "nbconvert_exporter": "python",
   "pygments_lexer": "ipython3",
   "version": "3.7.6"
  }
 },
 "nbformat": 4,
 "nbformat_minor": 4
}
