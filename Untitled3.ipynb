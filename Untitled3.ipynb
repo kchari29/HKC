{
 "cells": [
  {
   "cell_type": "code",
   "execution_count": 1,
   "metadata": {},
   "outputs": [
    {
     "ename": "SyntaxError",
     "evalue": "invalid syntax (<ipython-input-1-14f728580b9a>, line 8)",
     "output_type": "error",
     "traceback": [
      "\u001b[1;36m  File \u001b[1;32m\"<ipython-input-1-14f728580b9a>\"\u001b[1;36m, line \u001b[1;32m8\u001b[0m\n\u001b[1;33m    print spider.lastUrl()\u001b[0m\n\u001b[1;37m               ^\u001b[0m\n\u001b[1;31mSyntaxError\u001b[0m\u001b[1;31m:\u001b[0m invalid syntax\n"
     ]
    }
   ],
   "source": [
    "import chilkat\n",
    "spider = chilkat.CkSpider()\n",
    "spider.Initialize(\"www.chilkatsoft.com\")\n",
    "spider.AddUnspidered(\"http://www.chilkatsoft.com/\")\n",
    "for i in range(0,10):\n",
    "    success = spider.CrawlNext()\n",
    "    if (success == True):\n",
    "        print spider.lastUrl()\n",
    "    else:\n",
    "        if (spider.get_NumUnspidered() == 0):\n",
    "            print \"No more URLs to spider\"\n",
    "        else:\n",
    "            print spider.lastErrorText()\n",
    "\n",
    "    #  Sleep 1 second before spidering the next URL.\n",
    "    spider.SleepMs(1000)"
   ]
  },
  {
   "cell_type": "code",
   "execution_count": null,
   "metadata": {},
   "outputs": [],
   "source": []
  }
 ],
 "metadata": {
  "kernelspec": {
   "display_name": "Python 3",
   "language": "python",
   "name": "python3"
  },
  "language_info": {
   "codemirror_mode": {
    "name": "ipython",
    "version": 3
   },
   "file_extension": ".py",
   "mimetype": "text/x-python",
   "name": "python",
   "nbconvert_exporter": "python",
   "pygments_lexer": "ipython3",
   "version": "3.7.6"
  }
 },
 "nbformat": 4,
 "nbformat_minor": 4
}
